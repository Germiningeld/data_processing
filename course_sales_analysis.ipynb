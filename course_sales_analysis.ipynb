{
 "cells": [
  {
   "cell_type": "markdown",
   "id": "1686e777-e9ab-43a3-b95a-1f803508ee6a",
   "metadata": {},
   "source": [
    "## Импорт библиотек"
   ]
  },
  {
   "cell_type": "code",
   "execution_count": 65,
   "id": "0d3f01ee-c1b1-4bfd-9b97-cdf2358767d5",
   "metadata": {},
   "outputs": [],
   "source": [
    "import hashlib\n",
    "import pandas as pd\n",
    "import matplotlib.pyplot as plt"
   ]
  },
  {
   "cell_type": "markdown",
   "id": "3d851a9a-23fb-453e-897d-be98f53d2d0a",
   "metadata": {},
   "source": [
    "## Загрузка данных"
   ]
  },
  {
   "cell_type": "code",
   "execution_count": 29,
   "id": "7c5670f4-6a39-4cd4-b076-07275e834d98",
   "metadata": {},
   "outputs": [],
   "source": [
    "doc_views = pd.read_csv('doc_views.csv')"
   ]
  },
  {
   "cell_type": "code",
   "execution_count": 30,
   "id": "effb677c-16c0-49d7-abbf-41b15b21e75e",
   "metadata": {},
   "outputs": [],
   "source": [
    "payments = pd.read_excel('case_data.xlsx', sheet_name = 'Payments')"
   ]
  },
  {
   "cell_type": "markdown",
   "id": "e6d5d712-ea89-41c4-971c-5f222481870b",
   "metadata": {},
   "source": [
    "## Предобработка данных"
   ]
  },
  {
   "cell_type": "markdown",
   "id": "3da91728-b966-459a-8c25-be60992d75d2",
   "metadata": {},
   "source": [
    "### Переименование полей"
   ]
  },
  {
   "cell_type": "code",
   "execution_count": 31,
   "id": "d4aee0af-1626-43d3-899a-e36889cbb10a",
   "metadata": {},
   "outputs": [],
   "source": [
    "doc_views = doc_views.rename(columns={'ID':'id','Name':'name','Last Name':'last_name','Passport Number':'passport_number'})"
   ]
  },
  {
   "cell_type": "code",
   "execution_count": 32,
   "id": "ff9a11c5-8fbc-4e33-b0f4-7bc187f8a3a8",
   "metadata": {},
   "outputs": [
    {
     "data": {
      "text/html": [
       "<div>\n",
       "<style scoped>\n",
       "    .dataframe tbody tr th:only-of-type {\n",
       "        vertical-align: middle;\n",
       "    }\n",
       "\n",
       "    .dataframe tbody tr th {\n",
       "        vertical-align: top;\n",
       "    }\n",
       "\n",
       "    .dataframe thead th {\n",
       "        text-align: right;\n",
       "    }\n",
       "</style>\n",
       "<table border=\"1\" class=\"dataframe\">\n",
       "  <thead>\n",
       "    <tr style=\"text-align: right;\">\n",
       "      <th></th>\n",
       "      <th>document_id</th>\n",
       "      <th>user_id</th>\n",
       "      <th>viewed_at</th>\n",
       "      <th>document_title</th>\n",
       "      <th>course_name</th>\n",
       "      <th>university_name</th>\n",
       "      <th>category_id</th>\n",
       "      <th>category_name</th>\n",
       "      <th>premium</th>\n",
       "      <th>rating</th>\n",
       "      <th>pages</th>\n",
       "      <th>word_count</th>\n",
       "      <th>id</th>\n",
       "      <th>name</th>\n",
       "      <th>last_name</th>\n",
       "      <th>passport_number</th>\n",
       "    </tr>\n",
       "  </thead>\n",
       "  <tbody>\n",
       "    <tr>\n",
       "      <th>0</th>\n",
       "      <td>9738742</td>\n",
       "      <td>8469118</td>\n",
       "      <td>2020-11-30 22:59:56</td>\n",
       "      <td>Sosiale medier - 2. time</td>\n",
       "      <td>Sosiale medier</td>\n",
       "      <td>Handelshøyskolen BI</td>\n",
       "      <td>3</td>\n",
       "      <td>Lecture notes</td>\n",
       "      <td>0</td>\n",
       "      <td>0</td>\n",
       "      <td>1</td>\n",
       "      <td>151</td>\n",
       "      <td>1</td>\n",
       "      <td>Jacob</td>\n",
       "      <td>Edwards</td>\n",
       "      <td>1903...</td>\n",
       "    </tr>\n",
       "    <tr>\n",
       "      <th>1</th>\n",
       "      <td>2042372</td>\n",
       "      <td>13198098</td>\n",
       "      <td>2020-11-30 22:59:52</td>\n",
       "      <td>Bedriften-kortsvarsspørsmål</td>\n",
       "      <td>Bedriften</td>\n",
       "      <td>Handelshøyskolen BI</td>\n",
       "      <td>7</td>\n",
       "      <td>Summaries</td>\n",
       "      <td>1</td>\n",
       "      <td>50</td>\n",
       "      <td>23</td>\n",
       "      <td>9551</td>\n",
       "      <td>2</td>\n",
       "      <td>Felicia</td>\n",
       "      <td>Smith</td>\n",
       "      <td>1466...</td>\n",
       "    </tr>\n",
       "    <tr>\n",
       "      <th>2</th>\n",
       "      <td>3653898</td>\n",
       "      <td>11182794</td>\n",
       "      <td>2020-11-30 22:59:41</td>\n",
       "      <td>Sammendrag-i-markedsføring</td>\n",
       "      <td>Markedsføring-grunnkurs</td>\n",
       "      <td>Norges teknisk-naturvitenskapelige universitet</td>\n",
       "      <td>3</td>\n",
       "      <td>Lecture notes</td>\n",
       "      <td>0</td>\n",
       "      <td>1</td>\n",
       "      <td>107</td>\n",
       "      <td>37572</td>\n",
       "      <td>3</td>\n",
       "      <td>Erin</td>\n",
       "      <td>Parker</td>\n",
       "      <td>4864...</td>\n",
       "    </tr>\n",
       "  </tbody>\n",
       "</table>\n",
       "</div>"
      ],
      "text/plain": [
       "   document_id   user_id            viewed_at               document_title  \\\n",
       "0      9738742   8469118  2020-11-30 22:59:56     Sosiale medier - 2. time   \n",
       "1      2042372  13198098  2020-11-30 22:59:52  Bedriften-kortsvarsspørsmål   \n",
       "2      3653898  11182794  2020-11-30 22:59:41   Sammendrag-i-markedsføring   \n",
       "\n",
       "               course_name                                 university_name  \\\n",
       "0           Sosiale medier                             Handelshøyskolen BI   \n",
       "1                Bedriften                             Handelshøyskolen BI   \n",
       "2  Markedsføring-grunnkurs  Norges teknisk-naturvitenskapelige universitet   \n",
       "\n",
       "   category_id  category_name  premium  rating  pages  word_count  id  \\\n",
       "0            3  Lecture notes        0       0      1         151   1   \n",
       "1            7      Summaries        1      50     23        9551   2   \n",
       "2            3  Lecture notes        0       1    107       37572   3   \n",
       "\n",
       "      name last_name  passport_number  \n",
       "0    Jacob   Edwards       1903...  \n",
       "1  Felicia     Smith       1466...  \n",
       "2     Erin    Parker       4864...  "
      ]
     },
     "execution_count": 32,
     "metadata": {},
     "output_type": "execute_result"
    }
   ],
   "source": [
    "doc_views.head(3)"
   ]
  },
  {
   "cell_type": "markdown",
   "id": "752c4fcf-e0ee-4424-b4f1-3a843bb5be1a",
   "metadata": {},
   "source": [
    "### Обработка пропусков"
   ]
  },
  {
   "cell_type": "code",
   "execution_count": 33,
   "id": "fefc8aae-07c6-4770-91f4-c27d5cab51bc",
   "metadata": {},
   "outputs": [],
   "source": [
    "payments = payments.query('user_id.isna() == False')"
   ]
  },
  {
   "cell_type": "code",
   "execution_count": 34,
   "id": "77144b25-28d6-4199-ab34-260168155df6",
   "metadata": {},
   "outputs": [
    {
     "data": {
      "text/html": [
       "<div>\n",
       "<style scoped>\n",
       "    .dataframe tbody tr th:only-of-type {\n",
       "        vertical-align: middle;\n",
       "    }\n",
       "\n",
       "    .dataframe tbody tr th {\n",
       "        vertical-align: top;\n",
       "    }\n",
       "\n",
       "    .dataframe thead th {\n",
       "        text-align: right;\n",
       "    }\n",
       "</style>\n",
       "<table border=\"1\" class=\"dataframe\">\n",
       "  <thead>\n",
       "    <tr style=\"text-align: right;\">\n",
       "      <th></th>\n",
       "      <th>document_id</th>\n",
       "      <th>user_id</th>\n",
       "      <th>viewed_at</th>\n",
       "      <th>document_title</th>\n",
       "      <th>course_name</th>\n",
       "      <th>university_name</th>\n",
       "      <th>category_id</th>\n",
       "      <th>category_name</th>\n",
       "      <th>premium</th>\n",
       "      <th>rating</th>\n",
       "      <th>pages</th>\n",
       "      <th>word_count</th>\n",
       "      <th>id</th>\n",
       "      <th>name</th>\n",
       "      <th>last_name</th>\n",
       "      <th>passport_number</th>\n",
       "    </tr>\n",
       "  </thead>\n",
       "  <tbody>\n",
       "    <tr>\n",
       "      <th>20</th>\n",
       "      <td>2057305</td>\n",
       "      <td>11601338</td>\n",
       "      <td>2020-11-30 22:57:52</td>\n",
       "      <td>Sammendrag Bedriften HIS3410</td>\n",
       "      <td>Bedriften</td>\n",
       "      <td>Handelshøyskolen BI</td>\n",
       "      <td>7</td>\n",
       "      <td>NaN</td>\n",
       "      <td>1</td>\n",
       "      <td>28</td>\n",
       "      <td>43</td>\n",
       "      <td>11852</td>\n",
       "      <td>21</td>\n",
       "      <td>Catherine</td>\n",
       "      <td>Moore</td>\n",
       "      <td>5913...</td>\n",
       "    </tr>\n",
       "    <tr>\n",
       "      <th>21</th>\n",
       "      <td>2695140</td>\n",
       "      <td>13049904</td>\n",
       "      <td>2020-11-30 22:57:50</td>\n",
       "      <td>Eksamen 2017</td>\n",
       "      <td>Personalpsykologi</td>\n",
       "      <td>Universitetet i Bergen</td>\n",
       "      <td>4</td>\n",
       "      <td>NaN</td>\n",
       "      <td>1</td>\n",
       "      <td>11</td>\n",
       "      <td>7</td>\n",
       "      <td>4241</td>\n",
       "      <td>22</td>\n",
       "      <td>Arthur</td>\n",
       "      <td>Smith</td>\n",
       "      <td>2752...</td>\n",
       "    </tr>\n",
       "    <tr>\n",
       "      <th>22</th>\n",
       "      <td>2548470</td>\n",
       "      <td>11588852</td>\n",
       "      <td>2020-11-30 22:57:44</td>\n",
       "      <td>Bedriften</td>\n",
       "      <td>Bedriften</td>\n",
       "      <td>Handelshøyskolen BI</td>\n",
       "      <td>3</td>\n",
       "      <td>NaN</td>\n",
       "      <td>1</td>\n",
       "      <td>22</td>\n",
       "      <td>28</td>\n",
       "      <td>4448</td>\n",
       "      <td>23</td>\n",
       "      <td>Ashley</td>\n",
       "      <td>Turner</td>\n",
       "      <td>6746...</td>\n",
       "    </tr>\n",
       "    <tr>\n",
       "      <th>23</th>\n",
       "      <td>3622849</td>\n",
       "      <td>13205250</td>\n",
       "      <td>2020-11-30 22:57:36</td>\n",
       "      <td>STV1400 – OPA – Samleark 1</td>\n",
       "      <td>Offentlig politikk og administrasjon 1 (innfør...</td>\n",
       "      <td>Universitetet i Oslo</td>\n",
       "      <td>7</td>\n",
       "      <td>NaN</td>\n",
       "      <td>1</td>\n",
       "      <td>7</td>\n",
       "      <td>47</td>\n",
       "      <td>6089</td>\n",
       "      <td>24</td>\n",
       "      <td>Mark</td>\n",
       "      <td>Warren</td>\n",
       "      <td>1886...</td>\n",
       "    </tr>\n",
       "    <tr>\n",
       "      <th>24</th>\n",
       "      <td>6092770</td>\n",
       "      <td>11588852</td>\n",
       "      <td>2020-11-30 22:57:17</td>\n",
       "      <td>Web Page - arbeidskrav 5</td>\n",
       "      <td>Bedriftsøkonomisk analyse</td>\n",
       "      <td>Handelshøyskolen BI</td>\n",
       "      <td>8</td>\n",
       "      <td>NaN</td>\n",
       "      <td>1</td>\n",
       "      <td>5</td>\n",
       "      <td>3</td>\n",
       "      <td>487</td>\n",
       "      <td>25</td>\n",
       "      <td>Edward</td>\n",
       "      <td>Benson</td>\n",
       "      <td>9935...</td>\n",
       "    </tr>\n",
       "    <tr>\n",
       "      <th>...</th>\n",
       "      <td>...</td>\n",
       "      <td>...</td>\n",
       "      <td>...</td>\n",
       "      <td>...</td>\n",
       "      <td>...</td>\n",
       "      <td>...</td>\n",
       "      <td>...</td>\n",
       "      <td>...</td>\n",
       "      <td>...</td>\n",
       "      <td>...</td>\n",
       "      <td>...</td>\n",
       "      <td>...</td>\n",
       "      <td>...</td>\n",
       "      <td>...</td>\n",
       "      <td>...</td>\n",
       "      <td>...</td>\n",
       "    </tr>\n",
       "    <tr>\n",
       "      <th>340</th>\n",
       "      <td>4039156</td>\n",
       "      <td>12379916</td>\n",
       "      <td>2020-11-30 22:13:52</td>\n",
       "      <td>Organisasjonsstruktur</td>\n",
       "      <td>Organisasjonsteori og ledelse</td>\n",
       "      <td>Norges Arktiske Universitet</td>\n",
       "      <td>7</td>\n",
       "      <td>NaN</td>\n",
       "      <td>0</td>\n",
       "      <td>7</td>\n",
       "      <td>5</td>\n",
       "      <td>494</td>\n",
       "      <td>341</td>\n",
       "      <td>Lauren</td>\n",
       "      <td>Washington</td>\n",
       "      <td>6327...</td>\n",
       "    </tr>\n",
       "    <tr>\n",
       "      <th>341</th>\n",
       "      <td>3910049</td>\n",
       "      <td>12820726</td>\n",
       "      <td>2020-11-30 22:13:36</td>\n",
       "      <td>Eksamen 12 Desember 2018, svar</td>\n",
       "      <td>Etikk og samfunnsansvar</td>\n",
       "      <td>Universitetet i Sørøst-Norge</td>\n",
       "      <td>4</td>\n",
       "      <td>NaN</td>\n",
       "      <td>0</td>\n",
       "      <td>9</td>\n",
       "      <td>6</td>\n",
       "      <td>4785</td>\n",
       "      <td>342</td>\n",
       "      <td>Melissa</td>\n",
       "      <td>Morgan</td>\n",
       "      <td>1111...</td>\n",
       "    </tr>\n",
       "    <tr>\n",
       "      <th>342</th>\n",
       "      <td>9161634</td>\n",
       "      <td>9620122</td>\n",
       "      <td>2020-11-30 22:13:35</td>\n",
       "      <td>Eksamen 5 Mai 2020, svar</td>\n",
       "      <td>Sosiale medier</td>\n",
       "      <td>Handelshøyskolen BI</td>\n",
       "      <td>4</td>\n",
       "      <td>NaN</td>\n",
       "      <td>1</td>\n",
       "      <td>0</td>\n",
       "      <td>13</td>\n",
       "      <td>4740</td>\n",
       "      <td>343</td>\n",
       "      <td>Tammy</td>\n",
       "      <td>Bennett</td>\n",
       "      <td>7369...</td>\n",
       "    </tr>\n",
       "    <tr>\n",
       "      <th>343</th>\n",
       "      <td>2783840</td>\n",
       "      <td>12972078</td>\n",
       "      <td>2020-11-30 22:13:13</td>\n",
       "      <td>Eksamen 2015, svar</td>\n",
       "      <td>Velferd og økonomisk politikk</td>\n",
       "      <td>Universitetet i Bergen</td>\n",
       "      <td>4</td>\n",
       "      <td>NaN</td>\n",
       "      <td>1</td>\n",
       "      <td>0</td>\n",
       "      <td>2</td>\n",
       "      <td>442</td>\n",
       "      <td>344</td>\n",
       "      <td>Adam</td>\n",
       "      <td>Hood</td>\n",
       "      <td>7535...</td>\n",
       "    </tr>\n",
       "    <tr>\n",
       "      <th>344</th>\n",
       "      <td>9271044</td>\n",
       "      <td>11612298</td>\n",
       "      <td>2020-11-30 22:13:11</td>\n",
       "      <td>Kortsvar 2019 - Forelesningsnotater alle</td>\n",
       "      <td>Bedriften</td>\n",
       "      <td>Handelshøyskolen BI</td>\n",
       "      <td>3</td>\n",
       "      <td>NaN</td>\n",
       "      <td>1</td>\n",
       "      <td>0</td>\n",
       "      <td>67</td>\n",
       "      <td>19607</td>\n",
       "      <td>345</td>\n",
       "      <td>Jonathan</td>\n",
       "      <td>Ramirez</td>\n",
       "      <td>8449...</td>\n",
       "    </tr>\n",
       "  </tbody>\n",
       "</table>\n",
       "<p>325 rows × 16 columns</p>\n",
       "</div>"
      ],
      "text/plain": [
       "     document_id   user_id            viewed_at  \\\n",
       "20       2057305  11601338  2020-11-30 22:57:52   \n",
       "21       2695140  13049904  2020-11-30 22:57:50   \n",
       "22       2548470  11588852  2020-11-30 22:57:44   \n",
       "23       3622849  13205250  2020-11-30 22:57:36   \n",
       "24       6092770  11588852  2020-11-30 22:57:17   \n",
       "..           ...       ...                  ...   \n",
       "340      4039156  12379916  2020-11-30 22:13:52   \n",
       "341      3910049  12820726  2020-11-30 22:13:36   \n",
       "342      9161634   9620122  2020-11-30 22:13:35   \n",
       "343      2783840  12972078  2020-11-30 22:13:13   \n",
       "344      9271044  11612298  2020-11-30 22:13:11   \n",
       "\n",
       "                               document_title  \\\n",
       "20               Sammendrag Bedriften HIS3410   \n",
       "21                               Eksamen 2017   \n",
       "22                                  Bedriften   \n",
       "23                 STV1400 – OPA – Samleark 1   \n",
       "24                   Web Page - arbeidskrav 5   \n",
       "..                                        ...   \n",
       "340                     Organisasjonsstruktur   \n",
       "341            Eksamen 12 Desember 2018, svar   \n",
       "342                  Eksamen 5 Mai 2020, svar   \n",
       "343                        Eksamen 2015, svar   \n",
       "344  Kortsvar 2019 - Forelesningsnotater alle   \n",
       "\n",
       "                                           course_name  \\\n",
       "20                                           Bedriften   \n",
       "21                                   Personalpsykologi   \n",
       "22                                           Bedriften   \n",
       "23   Offentlig politikk og administrasjon 1 (innfør...   \n",
       "24                           Bedriftsøkonomisk analyse   \n",
       "..                                                 ...   \n",
       "340                      Organisasjonsteori og ledelse   \n",
       "341                            Etikk og samfunnsansvar   \n",
       "342                                     Sosiale medier   \n",
       "343                      Velferd og økonomisk politikk   \n",
       "344                                          Bedriften   \n",
       "\n",
       "                  university_name  category_id category_name  premium  rating  \\\n",
       "20            Handelshøyskolen BI            7           NaN        1      28   \n",
       "21         Universitetet i Bergen            4           NaN        1      11   \n",
       "22            Handelshøyskolen BI            3           NaN        1      22   \n",
       "23           Universitetet i Oslo            7           NaN        1       7   \n",
       "24            Handelshøyskolen BI            8           NaN        1       5   \n",
       "..                            ...          ...           ...      ...     ...   \n",
       "340   Norges Arktiske Universitet            7           NaN        0       7   \n",
       "341  Universitetet i Sørøst-Norge            4           NaN        0       9   \n",
       "342           Handelshøyskolen BI            4           NaN        1       0   \n",
       "343        Universitetet i Bergen            4           NaN        1       0   \n",
       "344           Handelshøyskolen BI            3           NaN        1       0   \n",
       "\n",
       "     pages  word_count   id       name   last_name  passport_number  \n",
       "20      43       11852   21  Catherine       Moore       5913...  \n",
       "21       7        4241   22     Arthur       Smith       2752...  \n",
       "22      28        4448   23     Ashley      Turner       6746...  \n",
       "23      47        6089   24       Mark      Warren       1886...  \n",
       "24       3         487   25     Edward      Benson       9935...  \n",
       "..     ...         ...  ...        ...         ...              ...  \n",
       "340      5         494  341     Lauren  Washington       6327...  \n",
       "341      6        4785  342    Melissa      Morgan       1111...  \n",
       "342     13        4740  343      Tammy     Bennett       73698...  \n",
       "343      2         442  344       Adam        Hood       7535...  \n",
       "344     67       19607  345   Jonathan     Ramirez       8449...  \n",
       "\n",
       "[325 rows x 16 columns]"
      ]
     },
     "execution_count": 34,
     "metadata": {},
     "output_type": "execute_result"
    }
   ],
   "source": [
    "doc_views.query('category_name.isna()')"
   ]
  },
  {
   "cell_type": "code",
   "execution_count": 35,
   "id": "9ba55e3f-cdc6-42ab-ab7d-47d9a13f039d",
   "metadata": {},
   "outputs": [],
   "source": [
    "category_dict = doc_views.query('category_name.isna() == False')[['category_id','category_name']].drop_duplicates().reset_index(drop=True).set_index('category_id')['category_name'].to_dict()"
   ]
  },
  {
   "cell_type": "code",
   "execution_count": 36,
   "id": "8b8c8028-10c3-4bc1-ae47-313a55e597ca",
   "metadata": {},
   "outputs": [],
   "source": [
    "def fill_nans(col_id):\n",
    "    return category_dict[col_id]"
   ]
  },
  {
   "cell_type": "code",
   "execution_count": 37,
   "id": "82424c09-4521-46e6-aea8-dd753960d568",
   "metadata": {},
   "outputs": [],
   "source": [
    "doc_views['category_name'] = doc_views['category_id'].apply(fill_nans)"
   ]
  },
  {
   "cell_type": "code",
   "execution_count": 38,
   "id": "cc59dfb8-f36d-4f86-b035-62d3ee0f2109",
   "metadata": {},
   "outputs": [
    {
     "data": {
      "text/html": [
       "<div>\n",
       "<style scoped>\n",
       "    .dataframe tbody tr th:only-of-type {\n",
       "        vertical-align: middle;\n",
       "    }\n",
       "\n",
       "    .dataframe tbody tr th {\n",
       "        vertical-align: top;\n",
       "    }\n",
       "\n",
       "    .dataframe thead th {\n",
       "        text-align: right;\n",
       "    }\n",
       "</style>\n",
       "<table border=\"1\" class=\"dataframe\">\n",
       "  <thead>\n",
       "    <tr style=\"text-align: right;\">\n",
       "      <th></th>\n",
       "      <th>document_id</th>\n",
       "      <th>user_id</th>\n",
       "      <th>viewed_at</th>\n",
       "      <th>document_title</th>\n",
       "      <th>course_name</th>\n",
       "      <th>university_name</th>\n",
       "      <th>category_id</th>\n",
       "      <th>category_name</th>\n",
       "      <th>premium</th>\n",
       "      <th>rating</th>\n",
       "      <th>pages</th>\n",
       "      <th>word_count</th>\n",
       "      <th>id</th>\n",
       "      <th>name</th>\n",
       "      <th>last_name</th>\n",
       "      <th>passport_number</th>\n",
       "    </tr>\n",
       "  </thead>\n",
       "  <tbody>\n",
       "  </tbody>\n",
       "</table>\n",
       "</div>"
      ],
      "text/plain": [
       "Empty DataFrame\n",
       "Columns: [document_id, user_id, viewed_at, document_title, course_name, university_name, category_id, category_name, premium, rating, pages, word_count, id, name, last_name, passport_number]\n",
       "Index: []"
      ]
     },
     "execution_count": 38,
     "metadata": {},
     "output_type": "execute_result"
    }
   ],
   "source": [
    "doc_views.query('category_name.isna()')"
   ]
  },
  {
   "cell_type": "markdown",
   "id": "f9deab1c-97aa-4312-a59b-7a07b809c857",
   "metadata": {},
   "source": [
    "### Преобразование типов"
   ]
  },
  {
   "cell_type": "code",
   "execution_count": 39,
   "id": "905e4628-aa11-49cc-835a-1886422abc33",
   "metadata": {},
   "outputs": [],
   "source": [
    "doc_views['viewed_at'] = pd.to_datetime(doc_views['viewed_at'])"
   ]
  },
  {
   "cell_type": "code",
   "execution_count": 40,
   "id": "55529dfa-bf59-4880-938c-9c93491c352f",
   "metadata": {},
   "outputs": [],
   "source": [
    "doc_views['passport_number'] = doc_views['passport_number'].astype(str)"
   ]
  },
  {
   "cell_type": "code",
   "execution_count": 41,
   "id": "f4ed2f11-af87-4dd0-b6f4-3fb8be77c290",
   "metadata": {},
   "outputs": [
    {
     "name": "stdout",
     "output_type": "stream",
     "text": [
      "<class 'pandas.core.frame.DataFrame'>\n",
      "RangeIndex: 2241 entries, 0 to 2240\n",
      "Data columns (total 16 columns):\n",
      " #   Column           Non-Null Count  Dtype         \n",
      "---  ------           --------------  -----         \n",
      " 0   document_id      2241 non-null   int64         \n",
      " 1   user_id          2241 non-null   int64         \n",
      " 2   viewed_at        2241 non-null   datetime64[ns]\n",
      " 3   document_title   2241 non-null   object        \n",
      " 4   course_name      2241 non-null   object        \n",
      " 5   university_name  2241 non-null   object        \n",
      " 6   category_id      2241 non-null   int64         \n",
      " 7   category_name    2241 non-null   object        \n",
      " 8   premium          2241 non-null   int64         \n",
      " 9   rating           2241 non-null   int64         \n",
      " 10  pages            2241 non-null   int64         \n",
      " 11  word_count       2241 non-null   int64         \n",
      " 12  id               2241 non-null   int64         \n",
      " 13  name             2241 non-null   object        \n",
      " 14  last_name        2241 non-null   object        \n",
      " 15  passport_number  2241 non-null   object        \n",
      "dtypes: datetime64[ns](1), int64(8), object(7)\n",
      "memory usage: 280.3+ KB\n"
     ]
    }
   ],
   "source": [
    "doc_views.info()"
   ]
  },
  {
   "cell_type": "code",
   "execution_count": 42,
   "id": "31aa3670-9bd0-43a3-af99-07b0a9a6c479",
   "metadata": {},
   "outputs": [],
   "source": [
    "payments['user_id'] = payments['user_id'].astype(int)"
   ]
  },
  {
   "cell_type": "code",
   "execution_count": 43,
   "id": "0c9e5e37-f3b9-4e0b-938d-dcbcf96b6fa8",
   "metadata": {},
   "outputs": [
    {
     "name": "stdout",
     "output_type": "stream",
     "text": [
      "<class 'pandas.core.frame.DataFrame'>\n",
      "Index: 3382 entries, 36 to 3417\n",
      "Data columns (total 10 columns):\n",
      " #   Column          Non-Null Count  Dtype         \n",
      "---  ------          --------------  -----         \n",
      " 0   id              3382 non-null   int64         \n",
      " 1   created_at      3382 non-null   datetime64[ns]\n",
      " 2   user_id         3382 non-null   int64         \n",
      " 3   amount          3382 non-null   int64         \n",
      " 4   brand_code      3382 non-null   object        \n",
      " 5   shopper_locale  3382 non-null   object        \n",
      " 6   currency        3382 non-null   object        \n",
      " 7   event_code      3382 non-null   object        \n",
      " 8   is_trial        3382 non-null   int64         \n",
      " 9   trial_days      3382 non-null   int64         \n",
      "dtypes: datetime64[ns](1), int64(5), object(4)\n",
      "memory usage: 290.6+ KB\n"
     ]
    }
   ],
   "source": [
    "payments.info()"
   ]
  },
  {
   "cell_type": "markdown",
   "id": "49a60a5b-c923-4490-9764-63de40732515",
   "metadata": {},
   "source": [
    "### Анонимизация данных"
   ]
  },
  {
   "cell_type": "code",
   "execution_count": 44,
   "id": "0ef4c37a-c60f-453b-a2b3-5f45bb51b3ee",
   "metadata": {},
   "outputs": [],
   "source": [
    "def hash_passport(passport):\n",
    "    return hashlib.sha256(passport.encode()).hexdigest()"
   ]
  },
  {
   "cell_type": "code",
   "execution_count": 45,
   "id": "7bd1da86-a5e0-4617-b9a5-336fbb71ccb8",
   "metadata": {},
   "outputs": [],
   "source": [
    "doc_views['passport_number'] = doc_views['passport_number'].apply(hash_passport)"
   ]
  },
  {
   "cell_type": "code",
   "execution_count": 46,
   "id": "768329e6-05ec-4987-9f33-e4a3427c0d18",
   "metadata": {},
   "outputs": [],
   "source": [
    "doc_views = doc_views.drop(columns='last_name')"
   ]
  },
  {
   "cell_type": "code",
   "execution_count": 47,
   "id": "809ab25b-4817-443f-bde6-8e48ea165da4",
   "metadata": {},
   "outputs": [
    {
     "data": {
      "text/html": [
       "<div>\n",
       "<style scoped>\n",
       "    .dataframe tbody tr th:only-of-type {\n",
       "        vertical-align: middle;\n",
       "    }\n",
       "\n",
       "    .dataframe tbody tr th {\n",
       "        vertical-align: top;\n",
       "    }\n",
       "\n",
       "    .dataframe thead th {\n",
       "        text-align: right;\n",
       "    }\n",
       "</style>\n",
       "<table border=\"1\" class=\"dataframe\">\n",
       "  <thead>\n",
       "    <tr style=\"text-align: right;\">\n",
       "      <th></th>\n",
       "      <th>document_id</th>\n",
       "      <th>user_id</th>\n",
       "      <th>viewed_at</th>\n",
       "      <th>document_title</th>\n",
       "      <th>course_name</th>\n",
       "      <th>university_name</th>\n",
       "      <th>category_id</th>\n",
       "      <th>category_name</th>\n",
       "      <th>premium</th>\n",
       "      <th>rating</th>\n",
       "      <th>pages</th>\n",
       "      <th>word_count</th>\n",
       "      <th>id</th>\n",
       "      <th>name</th>\n",
       "      <th>passport_number</th>\n",
       "    </tr>\n",
       "  </thead>\n",
       "  <tbody>\n",
       "    <tr>\n",
       "      <th>0</th>\n",
       "      <td>9738742</td>\n",
       "      <td>8469118</td>\n",
       "      <td>2020-11-30 22:59:56</td>\n",
       "      <td>Sosiale medier - 2. time</td>\n",
       "      <td>Sosiale medier</td>\n",
       "      <td>Handelshøyskolen BI</td>\n",
       "      <td>3</td>\n",
       "      <td>Lecture notes</td>\n",
       "      <td>0</td>\n",
       "      <td>0</td>\n",
       "      <td>1</td>\n",
       "      <td>151</td>\n",
       "      <td>1</td>\n",
       "      <td>Jacob</td>\n",
       "      <td>7d41dbb1caed125dc35cf0018f298844c8d1c74ffb00e2...</td>\n",
       "    </tr>\n",
       "    <tr>\n",
       "      <th>1</th>\n",
       "      <td>2042372</td>\n",
       "      <td>13198098</td>\n",
       "      <td>2020-11-30 22:59:52</td>\n",
       "      <td>Bedriften-kortsvarsspørsmål</td>\n",
       "      <td>Bedriften</td>\n",
       "      <td>Handelshøyskolen BI</td>\n",
       "      <td>7</td>\n",
       "      <td>Summaries</td>\n",
       "      <td>1</td>\n",
       "      <td>50</td>\n",
       "      <td>23</td>\n",
       "      <td>9551</td>\n",
       "      <td>2</td>\n",
       "      <td>Felicia</td>\n",
       "      <td>3032fb8eb98de582cd11a0eeb1f94c327aea2413dfcdd5...</td>\n",
       "    </tr>\n",
       "    <tr>\n",
       "      <th>2</th>\n",
       "      <td>3653898</td>\n",
       "      <td>11182794</td>\n",
       "      <td>2020-11-30 22:59:41</td>\n",
       "      <td>Sammendrag-i-markedsføring</td>\n",
       "      <td>Markedsføring-grunnkurs</td>\n",
       "      <td>Norges teknisk-naturvitenskapelige universitet</td>\n",
       "      <td>3</td>\n",
       "      <td>Lecture notes</td>\n",
       "      <td>0</td>\n",
       "      <td>1</td>\n",
       "      <td>107</td>\n",
       "      <td>37572</td>\n",
       "      <td>3</td>\n",
       "      <td>Erin</td>\n",
       "      <td>5c1079836d9b7ddaeabcc67d031a5a7b2bb5c22173977c...</td>\n",
       "    </tr>\n",
       "    <tr>\n",
       "      <th>3</th>\n",
       "      <td>7968789</td>\n",
       "      <td>13004670</td>\n",
       "      <td>2020-11-30 22:59:37</td>\n",
       "      <td>Dydsetikk og abort, Hursthouse</td>\n",
       "      <td>Examen philosophicum</td>\n",
       "      <td>Universitetet i Oslo</td>\n",
       "      <td>8</td>\n",
       "      <td>Mandatory assignments</td>\n",
       "      <td>1</td>\n",
       "      <td>3</td>\n",
       "      <td>6</td>\n",
       "      <td>929</td>\n",
       "      <td>4</td>\n",
       "      <td>Morgan</td>\n",
       "      <td>46d77f6d89836f8864188ebd124882789c214933820ece...</td>\n",
       "    </tr>\n",
       "    <tr>\n",
       "      <th>4</th>\n",
       "      <td>2036442</td>\n",
       "      <td>12525936</td>\n",
       "      <td>2020-11-30 22:59:30</td>\n",
       "      <td>Kortsvar-bedriften - Sammendrag Bedriften</td>\n",
       "      <td>Bedriften</td>\n",
       "      <td>Handelshøyskolen BI</td>\n",
       "      <td>7</td>\n",
       "      <td>Summaries</td>\n",
       "      <td>1</td>\n",
       "      <td>228</td>\n",
       "      <td>21</td>\n",
       "      <td>5567</td>\n",
       "      <td>5</td>\n",
       "      <td>Lisa</td>\n",
       "      <td>6a5f121ac346a55ce0f888a297effc6cfa48aeceddcd33...</td>\n",
       "    </tr>\n",
       "  </tbody>\n",
       "</table>\n",
       "</div>"
      ],
      "text/plain": [
       "   document_id   user_id           viewed_at  \\\n",
       "0      9738742   8469118 2020-11-30 22:59:56   \n",
       "1      2042372  13198098 2020-11-30 22:59:52   \n",
       "2      3653898  11182794 2020-11-30 22:59:41   \n",
       "3      7968789  13004670 2020-11-30 22:59:37   \n",
       "4      2036442  12525936 2020-11-30 22:59:30   \n",
       "\n",
       "                              document_title              course_name  \\\n",
       "0                   Sosiale medier - 2. time           Sosiale medier   \n",
       "1                Bedriften-kortsvarsspørsmål                Bedriften   \n",
       "2                 Sammendrag-i-markedsføring  Markedsføring-grunnkurs   \n",
       "3             Dydsetikk og abort, Hursthouse     Examen philosophicum   \n",
       "4  Kortsvar-bedriften - Sammendrag Bedriften                Bedriften   \n",
       "\n",
       "                                  university_name  category_id  \\\n",
       "0                             Handelshøyskolen BI            3   \n",
       "1                             Handelshøyskolen BI            7   \n",
       "2  Norges teknisk-naturvitenskapelige universitet            3   \n",
       "3                            Universitetet i Oslo            8   \n",
       "4                             Handelshøyskolen BI            7   \n",
       "\n",
       "           category_name  premium  rating  pages  word_count  id     name  \\\n",
       "0          Lecture notes        0       0      1         151   1    Jacob   \n",
       "1              Summaries        1      50     23        9551   2  Felicia   \n",
       "2          Lecture notes        0       1    107       37572   3     Erin   \n",
       "3  Mandatory assignments        1       3      6         929   4   Morgan   \n",
       "4              Summaries        1     228     21        5567   5     Lisa   \n",
       "\n",
       "                                     passport_number  \n",
       "0  7d41dbb1caed125dc35cf0018f298844c8d1c74ffb00e2...  \n",
       "1  3032fb8eb98de582cd11a0eeb1f94c327aea2413dfcdd5...  \n",
       "2  5c1079836d9b7ddaeabcc67d031a5a7b2bb5c22173977c...  \n",
       "3  46d77f6d89836f8864188ebd124882789c214933820ece...  \n",
       "4  6a5f121ac346a55ce0f888a297effc6cfa48aeceddcd33...  "
      ]
     },
     "execution_count": 47,
     "metadata": {},
     "output_type": "execute_result"
    }
   ],
   "source": [
    "doc_views.head()"
   ]
  },
  {
   "cell_type": "markdown",
   "id": "b25bec2a-ee79-40d8-ab3c-b84988d59663",
   "metadata": {},
   "source": [
    "### Обработка дублей"
   ]
  },
  {
   "cell_type": "code",
   "execution_count": 48,
   "id": "0e5b6d05-8425-4a87-a709-cb52983243f4",
   "metadata": {},
   "outputs": [
    {
     "data": {
      "text/plain": [
       "np.int64(0)"
      ]
     },
     "execution_count": 48,
     "metadata": {},
     "output_type": "execute_result"
    }
   ],
   "source": [
    "doc_views.duplicated().sum()"
   ]
  },
  {
   "cell_type": "code",
   "execution_count": 51,
   "id": "c8074012-cf2d-4382-aea1-5983f9d1e6d9",
   "metadata": {},
   "outputs": [
    {
     "data": {
      "text/plain": [
       "np.int64(0)"
      ]
     },
     "execution_count": 51,
     "metadata": {},
     "output_type": "execute_result"
    }
   ],
   "source": [
    "payments.duplicated().sum()"
   ]
  },
  {
   "cell_type": "code",
   "execution_count": 50,
   "id": "e41e8ce3-8cfe-4b0f-825d-6effcce39d70",
   "metadata": {},
   "outputs": [],
   "source": [
    "payments = payments.drop_duplicates()"
   ]
  },
  {
   "cell_type": "markdown",
   "id": "5f565bdc-fc02-4e6a-b686-d9131c57d31a",
   "metadata": {},
   "source": [
    "## Выгрузка данных в GPT и генерация гипотез"
   ]
  },
  {
   "cell_type": "code",
   "execution_count": 54,
   "id": "e1e0eb0f-21a1-4975-8787-b9839d23466c",
   "metadata": {},
   "outputs": [],
   "source": [
    "doc_views.to_csv('doc_views_resalt.csv', index=False)"
   ]
  },
  {
   "cell_type": "code",
   "execution_count": 55,
   "id": "50c5961e-182b-4111-96bd-8ff4491c53ca",
   "metadata": {},
   "outputs": [],
   "source": [
    "payments.to_csv('payments_resalt.csv', index=False)"
   ]
  },
  {
   "cell_type": "markdown",
   "id": "e4cf27f1-5726-4937-bb4a-ef207ed8baa5",
   "metadata": {},
   "source": [
    "## Исследовательский анализ данных"
   ]
  },
  {
   "cell_type": "markdown",
   "id": "0e767e1b-6e74-442b-b590-9b079453375a",
   "metadata": {},
   "source": [
    "### Локализация покупетелей"
   ]
  },
  {
   "cell_type": "code",
   "execution_count": 57,
   "id": "fedd9ed1-a7ca-42e2-8d3f-0f91ecb6c5d6",
   "metadata": {},
   "outputs": [
    {
     "data": {
      "text/html": [
       "<div>\n",
       "<style scoped>\n",
       "    .dataframe tbody tr th:only-of-type {\n",
       "        vertical-align: middle;\n",
       "    }\n",
       "\n",
       "    .dataframe tbody tr th {\n",
       "        vertical-align: top;\n",
       "    }\n",
       "\n",
       "    .dataframe thead th {\n",
       "        text-align: right;\n",
       "    }\n",
       "</style>\n",
       "<table border=\"1\" class=\"dataframe\">\n",
       "  <thead>\n",
       "    <tr style=\"text-align: right;\">\n",
       "      <th></th>\n",
       "      <th>id</th>\n",
       "      <th>created_at</th>\n",
       "      <th>user_id</th>\n",
       "      <th>amount</th>\n",
       "      <th>brand_code</th>\n",
       "      <th>shopper_locale</th>\n",
       "      <th>currency</th>\n",
       "      <th>event_code</th>\n",
       "      <th>is_trial</th>\n",
       "      <th>trial_days</th>\n",
       "    </tr>\n",
       "  </thead>\n",
       "  <tbody>\n",
       "    <tr>\n",
       "      <th>36</th>\n",
       "      <td>2663248</td>\n",
       "      <td>2020-11-30 21:06:53</td>\n",
       "      <td>13204266</td>\n",
       "      <td>0</td>\n",
       "      <td>visa</td>\n",
       "      <td>no</td>\n",
       "      <td>NOK</td>\n",
       "      <td>AUTHORISATION</td>\n",
       "      <td>1</td>\n",
       "      <td>30</td>\n",
       "    </tr>\n",
       "    <tr>\n",
       "      <th>37</th>\n",
       "      <td>2663241</td>\n",
       "      <td>2020-11-30 21:04:38</td>\n",
       "      <td>9007774</td>\n",
       "      <td>11997</td>\n",
       "      <td>visa</td>\n",
       "      <td>no</td>\n",
       "      <td>NOK</td>\n",
       "      <td>AUTHORISATION</td>\n",
       "      <td>0</td>\n",
       "      <td>0</td>\n",
       "    </tr>\n",
       "    <tr>\n",
       "      <th>38</th>\n",
       "      <td>2663236</td>\n",
       "      <td>2020-11-30 21:03:04</td>\n",
       "      <td>13204246</td>\n",
       "      <td>0</td>\n",
       "      <td>mc</td>\n",
       "      <td>no</td>\n",
       "      <td>NOK</td>\n",
       "      <td>AUTHORISATION</td>\n",
       "      <td>1</td>\n",
       "      <td>30</td>\n",
       "    </tr>\n",
       "    <tr>\n",
       "      <th>39</th>\n",
       "      <td>2663168</td>\n",
       "      <td>2020-11-30 20:59:30</td>\n",
       "      <td>13131658</td>\n",
       "      <td>0</td>\n",
       "      <td>visa</td>\n",
       "      <td>no</td>\n",
       "      <td>NOK</td>\n",
       "      <td>AUTHORISATION</td>\n",
       "      <td>1</td>\n",
       "      <td>30</td>\n",
       "    </tr>\n",
       "    <tr>\n",
       "      <th>40</th>\n",
       "      <td>2663144</td>\n",
       "      <td>2020-11-30 20:51:15</td>\n",
       "      <td>13203938</td>\n",
       "      <td>0</td>\n",
       "      <td>visa</td>\n",
       "      <td>no</td>\n",
       "      <td>NOK</td>\n",
       "      <td>AUTHORISATION</td>\n",
       "      <td>1</td>\n",
       "      <td>30</td>\n",
       "    </tr>\n",
       "  </tbody>\n",
       "</table>\n",
       "</div>"
      ],
      "text/plain": [
       "         id          created_at   user_id  amount brand_code shopper_locale  \\\n",
       "36  2663248 2020-11-30 21:06:53  13204266       0       visa             no   \n",
       "37  2663241 2020-11-30 21:04:38   9007774   11997       visa             no   \n",
       "38  2663236 2020-11-30 21:03:04  13204246       0         mc             no   \n",
       "39  2663168 2020-11-30 20:59:30  13131658       0       visa             no   \n",
       "40  2663144 2020-11-30 20:51:15  13203938       0       visa             no   \n",
       "\n",
       "   currency     event_code  is_trial  trial_days  \n",
       "36      NOK  AUTHORISATION         1          30  \n",
       "37      NOK  AUTHORISATION         0           0  \n",
       "38      NOK  AUTHORISATION         1          30  \n",
       "39      NOK  AUTHORISATION         1          30  \n",
       "40      NOK  AUTHORISATION         1          30  "
      ]
     },
     "execution_count": 57,
     "metadata": {},
     "output_type": "execute_result"
    }
   ],
   "source": [
    "payments.head()"
   ]
  },
  {
   "cell_type": "code",
   "execution_count": 58,
   "id": "7af7cd49-0a1e-4451-ab2f-f810ec96e68b",
   "metadata": {},
   "outputs": [
    {
     "data": {
      "text/plain": [
       "array(['no', 'en_us', 'en_gb', 'nl', 'en_ie', 'en_au', 'en', 'row', 'sv',\n",
       "       'in', 'it', 'de_ch', 'da', 'en_nz', 'hk', 'en_ca', 'de', 'es',\n",
       "       'vn', 'sg', 'ja'], dtype=object)"
      ]
     },
     "execution_count": 58,
     "metadata": {},
     "output_type": "execute_result"
    }
   ],
   "source": [
    "payments.shopper_locale.unique()"
   ]
  },
  {
   "cell_type": "code",
   "execution_count": 68,
   "id": "b32b11f7-af0b-470a-bff4-97f36170c39d",
   "metadata": {},
   "outputs": [],
   "source": [
    "locale_amounts = payments.groupby('shopper_locale')['amount'].sum()"
   ]
  },
  {
   "cell_type": "code",
   "execution_count": 70,
   "id": "e2132fee-4fbc-422d-b915-c375af593e34",
   "metadata": {},
   "outputs": [
    {
     "data": {
      "image/png": "[encoded data removed]",
      "text/plain": [
       "<Figure size 1000x600 with 1 Axes>"
      ]
     },
     "metadata": {},
     "output_type": "display_data"
    }
   ],
   "source": [
    "plt.figure(figsize=(10, 6)) # Задаем размер графика\n",
    "locale_amounts.plot(kind='bar', color='skyblue') # Создаем столбчатую диаграмму\n",
    "plt.title('Сумма платежей по локациям покупателей') # Заголовок диаграммы\n",
    "plt.xlabel('Локация покупателя') # Подпись оси Х\n",
    "plt.ylabel('Сумма платежей') # Подпись оси Y\n",
    "plt.xticks(rotation=45) # Поворот подписей на оси X для лучшей читаемости\n",
    "plt.grid(True) # Включаем сетку для удобства восприятия\n",
    "plt.show()"
   ]
  },
  {
   "cell_type": "markdown",
   "id": "d33b5737-ab56-41b6-97e1-d7f658f03829",
   "metadata": {},
   "source": [
    "### Влияние пробных периодов на последующие платежи"
   ]
  },
  {
   "cell_type": "code",
   "execution_count": 76,
   "id": "78cccacd-388d-4319-9139-6b0d25e65906",
   "metadata": {},
   "outputs": [],
   "source": [
    "trial_users = payments.query('is_trial == 1').drop_duplicates()[['user_id','is_trial']].reset_index(drop = True)"
   ]
  },
  {
   "cell_type": "code",
   "execution_count": 78,
   "id": "6739786a-b6db-4147-9835-cd2ccb9c9ce3",
   "metadata": {},
   "outputs": [],
   "source": [
    "payed_users = payments.query('amount > 1').drop_duplicates()[['user_id','amount']].reset_index(drop = True)"
   ]
  },
  {
   "cell_type": "code",
   "execution_count": 79,
   "id": "546f3cf5-d018-49c1-ad8a-c4cb31f89735",
   "metadata": {},
   "outputs": [],
   "source": [
    "joined_t = payed_users.merge(trial_users,how='left')"
   ]
  },
  {
   "cell_type": "code",
   "execution_count": 80,
   "id": "7ba74745-d6df-41f3-876d-de4fbe1b41cf",
   "metadata": {},
   "outputs": [
    {
     "data": {
      "text/html": [
       "<div>\n",
       "<style scoped>\n",
       "    .dataframe tbody tr th:only-of-type {\n",
       "        vertical-align: middle;\n",
       "    }\n",
       "\n",
       "    .dataframe tbody tr th {\n",
       "        vertical-align: top;\n",
       "    }\n",
       "\n",
       "    .dataframe thead th {\n",
       "        text-align: right;\n",
       "    }\n",
       "</style>\n",
       "<table border=\"1\" class=\"dataframe\">\n",
       "  <thead>\n",
       "    <tr style=\"text-align: right;\">\n",
       "      <th></th>\n",
       "      <th>user_id</th>\n",
       "      <th>amount</th>\n",
       "      <th>is_trial</th>\n",
       "    </tr>\n",
       "  </thead>\n",
       "  <tbody>\n",
       "    <tr>\n",
       "      <th>0</th>\n",
       "      <td>9007774</td>\n",
       "      <td>11997</td>\n",
       "      <td>NaN</td>\n",
       "    </tr>\n",
       "    <tr>\n",
       "      <th>1</th>\n",
       "      <td>5780180</td>\n",
       "      <td>11997</td>\n",
       "      <td>NaN</td>\n",
       "    </tr>\n",
       "    <tr>\n",
       "      <th>2</th>\n",
       "      <td>7763096</td>\n",
       "      <td>11997</td>\n",
       "      <td>NaN</td>\n",
       "    </tr>\n",
       "    <tr>\n",
       "      <th>3</th>\n",
       "      <td>13199820</td>\n",
       "      <td>11997</td>\n",
       "      <td>1.0</td>\n",
       "    </tr>\n",
       "    <tr>\n",
       "      <th>4</th>\n",
       "      <td>8285304</td>\n",
       "      <td>11997</td>\n",
       "      <td>NaN</td>\n",
       "    </tr>\n",
       "  </tbody>\n",
       "</table>\n",
       "</div>"
      ],
      "text/plain": [
       "    user_id  amount  is_trial\n",
       "0   9007774   11997       NaN\n",
       "1   5780180   11997       NaN\n",
       "2   7763096   11997       NaN\n",
       "3  13199820   11997       1.0\n",
       "4   8285304   11997       NaN"
      ]
     },
     "execution_count": 80,
     "metadata": {},
     "output_type": "execute_result"
    }
   ],
   "source": [
    "joined_t.head()"
   ]
  },
  {
   "cell_type": "code",
   "execution_count": 82,
   "id": "c84a78a8-8145-4c3e-b13c-6aea4bba6699",
   "metadata": {},
   "outputs": [
    {
     "data": {
      "text/plain": [
       "np.float64(19.0)"
      ]
     },
     "execution_count": 82,
     "metadata": {},
     "output_type": "execute_result"
    }
   ],
   "source": [
    "joined_t['is_trial'].sum()"
   ]
  },
  {
   "cell_type": "code",
   "execution_count": 84,
   "id": "166060e3-5906-430a-a482-f207f1be1ae7",
   "metadata": {},
   "outputs": [
    {
     "data": {
      "text/plain": [
       "np.int64(257)"
      ]
     },
     "execution_count": 84,
     "metadata": {},
     "output_type": "execute_result"
    }
   ],
   "source": [
    "joined_t['amount'].count()"
   ]
  },
  {
   "cell_type": "code",
   "execution_count": 85,
   "id": "400cb7ca-d1cc-4aae-95a0-be7ea351d792",
   "metadata": {},
   "outputs": [
    {
     "name": "stdout",
     "output_type": "stream",
     "text": [
      "Доля тех, кто имел пробный период из тех, кто оплатил 7.4 %\n"
     ]
    }
   ],
   "source": [
    "print('Доля тех, кто имел пробный период из тех, кто оплатил', round(joined_t['is_trial'].sum()/joined_t['amount'].count()*100,1),'%')"
   ]
  }
 ],
 "metadata": {
  "kernelspec": {
   "display_name": "Python 3 (ipykernel)",
   "language": "python",
   "name": "python3"
  },
  "language_info": {
   "codemirror_mode": {
    "name": "ipython",
    "version": 3
   },
   "file_extension": ".py",
   "mimetype": "text/x-python",
   "name": "python",
   "nbconvert_exporter": "python",
   "pygments_lexer": "ipython3",
   "version": "3.12.2"
  }
 },
 "nbformat": 4,
 "nbformat_minor": 5
}
